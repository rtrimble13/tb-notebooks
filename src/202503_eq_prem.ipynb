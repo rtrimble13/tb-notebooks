{
 "cells": [
  {
   "cell_type": "markdown",
   "metadata": {},
   "source": [
    "# Equity Risk Premium Analysis\n",
    "<p style=\"color:darkblue; \"><b>A TurningBull Notebook</b>"
   ]
  },
  {
   "cell_type": "code",
   "execution_count": 20,
   "metadata": {
    "vscode": {
     "languageId": "r"
    }
   },
   "outputs": [
    {
     "name": "stdout",
     "output_type": "stream",
     "text": []
    }
   ],
   "source": [
    "library(httr)\n",
    "library(jsonlite)\n",
    "library(data.table)\n",
    "library(quantmod)"
   ]
  },
  {
   "cell_type": "code",
   "execution_count": null,
   "metadata": {
    "vscode": {
     "languageId": "r"
    }
   },
   "outputs": [
    {
     "name": "stdout",
     "output_type": "stream",
     "text": []
    }
   ],
   "source": [
    "api.key <- read.csv('../.fmp_api.key', header = FALSE, stringsAsFactors = FALSE)[1,1]"
   ]
  },
  {
   "cell_type": "code",
   "execution_count": null,
   "metadata": {
    "vscode": {
     "languageId": "r"
    }
   },
   "outputs": [],
   "source": [
    "url <- \"https://financialmodelingprep.com/stable/historical-price-eod/dividend-adjusted?symbol=SPY&from=1989-12-31&to=2025-02-28&apikey=2F6Gza19PPjluyAomWz16vmQGwH2DwvW\"\n",
    "response <- GET(url)\n",
    "\n",
    "if (status_code(response) == 200) {\n",
    "  spy <- content(response, \"text\")\n",
    "  spy <- fromJSON(spy)\n",
    "  spy <- data.table(spy)\n",
    "  spy <- spy[, c(\"date\", \"adjClose\")]\n",
    "  spy <- spy[order(date)]\n",
    "  } else {\n",
    "  print(\"Error\")\n",
    "}"
   ]
  },
  {
   "cell_type": "code",
   "execution_count": 54,
   "metadata": {
    "vscode": {
     "languageId": "r"
    }
   },
   "outputs": [
    {
     "name": "stdout",
     "output_type": "stream",
     "text": []
    }
   ],
   "source": [
    "spy[, data := as.Date(date)]\n",
    "spy.monthly <- spy[, .(adjClose = last(adjClose)), by = .(year(data), month(data))]\n",
    "spy.monthly[, date := as.Date(paste(year, month, '01', sep = '-'))]\n",
    "spy.monthly <- spy.monthly[, .(date, adjClose)]\n",
    "spy.monthly[, rtn := adjClose / shift(adjClose) - 1]\n",
    "head(spy.monthly)"
   ]
  },
  {
   "cell_type": "code",
   "execution_count": 40,
   "metadata": {
    "vscode": {
     "languageId": "r"
    }
   },
   "outputs": [
    {
     "name": "stdout",
     "output_type": "stream",
     "text": []
    }
   ],
   "source": [
    "getSymbols('DGS3MO', src = 'FRED')"
   ]
  },
  {
   "cell_type": "code",
   "execution_count": 53,
   "metadata": {
    "vscode": {
     "languageId": "r"
    }
   },
   "outputs": [
    {
     "name": "stdout",
     "output_type": "stream",
     "text": []
    }
   ],
   "source": [
    "t.bill <- data.table(date = index(DGS3MO), rate = DGS3MO[, 1])\n",
    "t.bill <- t.bill[, .(rate = last(rate.DGS3MO)), by = .(year(date), month(date))]\n",
    "t.bill[, date := as.Date(paste(year, month, '01', sep = '-'))]\n",
    "t.bill <- t.bill[, .(date, rate)]\n",
    "head(t.bill)"
   ]
  },
  {
   "cell_type": "code",
   "execution_count": 56,
   "metadata": {
    "vscode": {
     "languageId": "r"
    }
   },
   "outputs": [
    {
     "name": "stdout",
     "output_type": "stream",
     "text": []
    }
   ],
   "source": [
    "merge(spy.monthly, t.bill, by='date', all.x=TRUE)"
   ]
  }
 ],
 "metadata": {
  "kernelspec": {
   "display_name": "R",
   "language": "R",
   "name": "ir"
  },
  "language_info": {
   "codemirror_mode": "r",
   "file_extension": ".r",
   "mimetype": "text/x-r-source",
   "name": "R",
   "pygments_lexer": "r",
   "version": "4.4.2"
  }
 },
 "nbformat": 4,
 "nbformat_minor": 2
}
