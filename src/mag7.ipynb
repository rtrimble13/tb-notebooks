{
 "cells": [
  {
   "cell_type": "code",
   "execution_count": 7,
   "metadata": {},
   "outputs": [],
   "source": [
    "import os \n",
    "import pandas as pd \n",
    "from urllib.request import urlopen\n",
    "import json"
   ]
  },
  {
   "cell_type": "code",
   "execution_count": 6,
   "metadata": {},
   "outputs": [],
   "source": [
    "## read in api key\n",
    "with open('../.fmp_api.key') as f:\n",
    "    api_key = f.read().strip()"
   ]
  },
  {
   "cell_type": "code",
   "execution_count": 8,
   "metadata": {},
   "outputs": [],
   "source": [
    "## parameters\n",
    "start_date = '2015-01-01' \n",
    "end_date = '2024-12-31'\n",
    "sp500 = '^GSPC'"
   ]
  },
  {
   "cell_type": "code",
   "execution_count": 13,
   "metadata": {},
   "outputs": [],
   "source": [
    "def get_index_prices(url):\n",
    "    response = urlopen(url)\n",
    "    data = response.read().decode(\"utf-8\")\n",
    "    return (pd.DataFrame(json.loads(data))\n",
    "            .loc[:,['date','close','changePercent']]\n",
    "            .assign(date = lambda x: pd.to_datetime(x['date']))\n",
    "            .set_index('date')\n",
    "    )\n",
    "\n",
    "url = (f\"https://financialmodelingprep.com/stable/historical-price-eod/full?symbol={sp500}&from={start_date}&to={end_date}&apikey={api_key}\")\n",
    "sp_prices = get_index_prices(url)"
   ]
  },
  {
   "cell_type": "code",
   "execution_count": 35,
   "metadata": {},
   "outputs": [
    {
     "data": {
      "text/plain": [
       "date\n",
       "2023-01-04    0.007539\n",
       "2023-01-05   -0.004194\n",
       "2023-01-06    0.018551\n",
       "2023-01-09    0.017769\n",
       "2023-01-10    0.024871\n",
       "                ...   \n",
       "2024-12-24    0.579453\n",
       "2024-12-26    0.578807\n",
       "2024-12-27    0.561358\n",
       "2024-12-30    0.544648\n",
       "2024-12-31    0.538024\n",
       "Name: close, Length: 501, dtype: float64"
      ]
     },
     "execution_count": 35,
     "metadata": {},
     "output_type": "execute_result"
    }
   ],
   "source": [
    "(\n",
    "    sp_prices\n",
    "    .sort_index(ascending=True)\n",
    "    .loc['2023-01-01':]\n",
    "    .close\n",
    "    .pct_change()\n",
    "    .dropna()\n",
    "    .add(1)\n",
    "    .cumprod()\n",
    "    .sub(1)\n",
    ")"
   ]
  },
  {
   "cell_type": "code",
   "execution_count": 33,
   "metadata": {},
   "outputs": [
    {
     "data": {
      "text/html": [
       "<div>\n",
       "<style scoped>\n",
       "    .dataframe tbody tr th:only-of-type {\n",
       "        vertical-align: middle;\n",
       "    }\n",
       "\n",
       "    .dataframe tbody tr th {\n",
       "        vertical-align: top;\n",
       "    }\n",
       "\n",
       "    .dataframe thead th {\n",
       "        text-align: right;\n",
       "    }\n",
       "</style>\n",
       "<table border=\"1\" class=\"dataframe\">\n",
       "  <thead>\n",
       "    <tr style=\"text-align: right;\">\n",
       "      <th></th>\n",
       "      <th>close</th>\n",
       "      <th>changePercent</th>\n",
       "      <th>chg</th>\n",
       "    </tr>\n",
       "    <tr>\n",
       "      <th>date</th>\n",
       "      <th></th>\n",
       "      <th></th>\n",
       "      <th></th>\n",
       "    </tr>\n",
       "  </thead>\n",
       "  <tbody>\n",
       "    <tr>\n",
       "      <th>2023-01-03</th>\n",
       "      <td>3824.14</td>\n",
       "      <td>-0.75650</td>\n",
       "      <td>NaN</td>\n",
       "    </tr>\n",
       "    <tr>\n",
       "      <th>2023-01-04</th>\n",
       "      <td>3852.97</td>\n",
       "      <td>0.32835</td>\n",
       "      <td>0.007539</td>\n",
       "    </tr>\n",
       "    <tr>\n",
       "      <th>2023-01-05</th>\n",
       "      <td>3808.10</td>\n",
       "      <td>-0.82401</td>\n",
       "      <td>-0.011646</td>\n",
       "    </tr>\n",
       "    <tr>\n",
       "      <th>2023-01-06</th>\n",
       "      <td>3895.08</td>\n",
       "      <td>1.88000</td>\n",
       "      <td>0.022841</td>\n",
       "    </tr>\n",
       "    <tr>\n",
       "      <th>2023-01-09</th>\n",
       "      <td>3892.09</td>\n",
       "      <td>-0.47893</td>\n",
       "      <td>-0.000768</td>\n",
       "    </tr>\n",
       "    <tr>\n",
       "      <th>...</th>\n",
       "      <td>...</td>\n",
       "      <td>...</td>\n",
       "      <td>...</td>\n",
       "    </tr>\n",
       "    <tr>\n",
       "      <th>2024-12-24</th>\n",
       "      <td>6040.05</td>\n",
       "      <td>0.92604</td>\n",
       "      <td>0.011043</td>\n",
       "    </tr>\n",
       "    <tr>\n",
       "      <th>2024-12-26</th>\n",
       "      <td>6037.58</td>\n",
       "      <td>0.20930</td>\n",
       "      <td>-0.000409</td>\n",
       "    </tr>\n",
       "    <tr>\n",
       "      <th>2024-12-27</th>\n",
       "      <td>5970.85</td>\n",
       "      <td>-0.58806</td>\n",
       "      <td>-0.011052</td>\n",
       "    </tr>\n",
       "    <tr>\n",
       "      <th>2024-12-30</th>\n",
       "      <td>5906.95</td>\n",
       "      <td>-0.23173</td>\n",
       "      <td>-0.010702</td>\n",
       "    </tr>\n",
       "    <tr>\n",
       "      <th>2024-12-31</th>\n",
       "      <td>5881.62</td>\n",
       "      <td>-0.64395</td>\n",
       "      <td>-0.004288</td>\n",
       "    </tr>\n",
       "  </tbody>\n",
       "</table>\n",
       "<p>502 rows × 3 columns</p>\n",
       "</div>"
      ],
      "text/plain": [
       "              close  changePercent       chg\n",
       "date                                        \n",
       "2023-01-03  3824.14       -0.75650       NaN\n",
       "2023-01-04  3852.97        0.32835  0.007539\n",
       "2023-01-05  3808.10       -0.82401 -0.011646\n",
       "2023-01-06  3895.08        1.88000  0.022841\n",
       "2023-01-09  3892.09       -0.47893 -0.000768\n",
       "...             ...            ...       ...\n",
       "2024-12-24  6040.05        0.92604  0.011043\n",
       "2024-12-26  6037.58        0.20930 -0.000409\n",
       "2024-12-27  5970.85       -0.58806 -0.011052\n",
       "2024-12-30  5906.95       -0.23173 -0.010702\n",
       "2024-12-31  5881.62       -0.64395 -0.004288\n",
       "\n",
       "[502 rows x 3 columns]"
      ]
     },
     "execution_count": 33,
     "metadata": {},
     "output_type": "execute_result"
    }
   ],
   "source": [
    "(\n",
    "    sp_prices\n",
    "    .sort_index(ascending=True)\n",
    "    .loc['2023-01-01':]\n",
    "    .assign(chg = lambda x: x.close.pct_change())\n",
    ")"
   ]
  }
 ],
 "metadata": {
  "kernelspec": {
   "display_name": "tb-notebooks",
   "language": "python",
   "name": "python3"
  },
  "language_info": {
   "codemirror_mode": {
    "name": "ipython",
    "version": 3
   },
   "file_extension": ".py",
   "mimetype": "text/x-python",
   "name": "python",
   "nbconvert_exporter": "python",
   "pygments_lexer": "ipython3",
   "version": "3.13.1"
  }
 },
 "nbformat": 4,
 "nbformat_minor": 2
}
