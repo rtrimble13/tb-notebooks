{
 "cells": [
  {
   "cell_type": "markdown",
   "metadata": {},
   "source": [
    "# Time-Weighted Returns\n",
    "\n",
    "<p style=\"color:cyan; \"><b>A TurningBull Notebook</b>\n",
    "\n",
    "The object of this notebook is to demonstrate how to compute simple and time-weighted returns for a time series of price data.\n",
    "\n",
    "We will start with simple returns, and then show how they can be linked together to yield a compounded time-weighted return.  To accomplish this, we'll use the **yfinance** and **pandas** libraries.  "
   ]
  },
  {
   "cell_type": "code",
   "execution_count": 1,
   "metadata": {},
   "outputs": [],
   "source": [
    "import yfinance as yf\n",
    "import pandas as pd"
   ]
  },
  {
   "cell_type": "code",
   "execution_count": 10,
   "metadata": {},
   "outputs": [],
   "source": [
    "## Set our parameters\n",
    "symbol = '^GSPC'                # S&P 500 Index. \n",
    "start_date = '2023-01-01'  \n",
    "end_date = '2024-12-31'         # 2 years of data. \n",
    "frequency = '1mo'               # Monthly data."
   ]
  },
  {
   "cell_type": "markdown",
   "metadata": {},
   "source": [
    "#### Acquiring the Data\n",
    "For the sake of simplicity, we're using yfinance, a Yahoo Finance api, to download two years of monthly price data for the S&P 500 Index."
   ]
  },
  {
   "cell_type": "code",
   "execution_count": 15,
   "metadata": {},
   "outputs": [
    {
     "name": "stderr",
     "output_type": "stream",
     "text": [
      "[*********************100%***********************]  1 of 1 completed"
     ]
    },
    {
     "name": "stdout",
     "output_type": "stream",
     "text": [
      "Price             Close         High          Low         Open        Volume\n",
      "Ticker            ^GSPC        ^GSPC        ^GSPC        ^GSPC         ^GSPC\n",
      "Date                                                                        \n",
      "2023-01-01  4076.600098  4094.209961  3794.330078  3853.290039   80763810000\n",
      "2023-02-01  3970.149902  4195.439941  3943.080078  4070.070068   80392280000\n",
      "2023-03-01  4109.310059  4110.750000  3808.860107  3963.340088  113094800000\n",
      "2023-04-01  4169.479980  4170.060059  4049.350098  4102.200195   70861260000\n",
      "2023-05-01  4179.830078  4231.100098  4048.280029  4166.790039   88929200000\n"
     ]
    },
    {
     "name": "stderr",
     "output_type": "stream",
     "text": [
      "\n"
     ]
    }
   ],
   "source": [
    "prices = yf.download(symbol, start=start_date, end=end_date, interval=frequency)\n",
    "\n",
    "print (prices.head())"
   ]
  },
  {
   "cell_type": "code",
   "execution_count": 30,
   "metadata": {},
   "outputs": [
    {
     "data": {
      "text/html": [
       "<div>\n",
       "<style scoped>\n",
       "    .dataframe tbody tr th:only-of-type {\n",
       "        vertical-align: middle;\n",
       "    }\n",
       "\n",
       "    .dataframe tbody tr th {\n",
       "        vertical-align: top;\n",
       "    }\n",
       "\n",
       "    .dataframe thead tr th {\n",
       "        text-align: left;\n",
       "    }\n",
       "</style>\n",
       "<table border=\"1\" class=\"dataframe\">\n",
       "  <thead>\n",
       "    <tr>\n",
       "      <th>Price</th>\n",
       "      <th>Close</th>\n",
       "      <th>High</th>\n",
       "      <th>Low</th>\n",
       "      <th>Open</th>\n",
       "      <th>Volume</th>\n",
       "    </tr>\n",
       "    <tr>\n",
       "      <th>Ticker</th>\n",
       "      <th>^GSPC</th>\n",
       "      <th>^GSPC</th>\n",
       "      <th>^GSPC</th>\n",
       "      <th>^GSPC</th>\n",
       "      <th>^GSPC</th>\n",
       "    </tr>\n",
       "  </thead>\n",
       "  <tbody>\n",
       "    <tr>\n",
       "      <th>count</th>\n",
       "      <td>24.000000</td>\n",
       "      <td>24.000000</td>\n",
       "      <td>24.000000</td>\n",
       "      <td>24.000000</td>\n",
       "      <td>2.400000e+01</td>\n",
       "    </tr>\n",
       "    <tr>\n",
       "      <th>mean</th>\n",
       "      <td>4891.434957</td>\n",
       "      <td>4971.467509</td>\n",
       "      <td>4688.732056</td>\n",
       "      <td>4807.778768</td>\n",
       "      <td>8.298170e+10</td>\n",
       "    </tr>\n",
       "    <tr>\n",
       "      <th>std</th>\n",
       "      <td>656.063560</td>\n",
       "      <td>659.775322</td>\n",
       "      <td>637.804842</td>\n",
       "      <td>656.342473</td>\n",
       "      <td>7.836678e+09</td>\n",
       "    </tr>\n",
       "    <tr>\n",
       "      <th>min</th>\n",
       "      <td>3970.149902</td>\n",
       "      <td>4094.209961</td>\n",
       "      <td>3794.330078</td>\n",
       "      <td>3853.290039</td>\n",
       "      <td>7.086126e+10</td>\n",
       "    </tr>\n",
       "    <tr>\n",
       "      <th>25%</th>\n",
       "      <td>4264.487305</td>\n",
       "      <td>4442.252441</td>\n",
       "      <td>4154.675049</td>\n",
       "      <td>4196.709961</td>\n",
       "      <td>8.033431e+10</td>\n",
       "    </tr>\n",
       "    <tr>\n",
       "      <th>50%</th>\n",
       "      <td>4807.739990</td>\n",
       "      <td>4862.194824</td>\n",
       "      <td>4614.304932</td>\n",
       "      <td>4662.015137</td>\n",
       "      <td>8.174252e+10</td>\n",
       "    </tr>\n",
       "    <tr>\n",
       "      <th>75%</th>\n",
       "      <td>5475.934937</td>\n",
       "      <td>5555.635132</td>\n",
       "      <td>5148.024780</td>\n",
       "      <td>5340.632446</td>\n",
       "      <td>8.612355e+10</td>\n",
       "    </tr>\n",
       "    <tr>\n",
       "      <th>max</th>\n",
       "      <td>6032.379883</td>\n",
       "      <td>6099.970215</td>\n",
       "      <td>5832.299805</td>\n",
       "      <td>6040.109863</td>\n",
       "      <td>1.130948e+11</td>\n",
       "    </tr>\n",
       "  </tbody>\n",
       "</table>\n",
       "</div>"
      ],
      "text/plain": [
       "Price         Close         High          Low         Open        Volume\n",
       "Ticker        ^GSPC        ^GSPC        ^GSPC        ^GSPC         ^GSPC\n",
       "count     24.000000    24.000000    24.000000    24.000000  2.400000e+01\n",
       "mean    4891.434957  4971.467509  4688.732056  4807.778768  8.298170e+10\n",
       "std      656.063560   659.775322   637.804842   656.342473  7.836678e+09\n",
       "min     3970.149902  4094.209961  3794.330078  3853.290039  7.086126e+10\n",
       "25%     4264.487305  4442.252441  4154.675049  4196.709961  8.033431e+10\n",
       "50%     4807.739990  4862.194824  4614.304932  4662.015137  8.174252e+10\n",
       "75%     5475.934937  5555.635132  5148.024780  5340.632446  8.612355e+10\n",
       "max     6032.379883  6099.970215  5832.299805  6040.109863  1.130948e+11"
      ]
     },
     "execution_count": 30,
     "metadata": {},
     "output_type": "execute_result"
    }
   ],
   "source": [
    "prices.describe()"
   ]
  },
  {
   "cell_type": "markdown",
   "metadata": {},
   "source": [
    "A quick inspection of the data shows we've downloaded open, high, low, close and volume (OHLCV) fields.  Since we're only interested in the **Close** prices, we'll drop the rest.."
   ]
  },
  {
   "cell_type": "code",
   "execution_count": 36,
   "metadata": {},
   "outputs": [
    {
     "name": "stdout",
     "output_type": "stream",
     "text": [
      "Price             Close\n",
      "Date                   \n",
      "2023-01-01  4076.600098\n",
      "2023-02-01  3970.149902\n",
      "2023-03-01  4109.310059\n",
      "2023-04-01  4169.479980\n",
      "2023-05-01  4179.830078\n"
     ]
    }
   ],
   "source": [
    "spy_close =\\\n",
    "( \n",
    "    prices                          # prices dataframe. \n",
    "    .droplevel(1, axis=1)           # Simple housekeeping...  drop the ^GSPC ticker from column index.\n",
    "    .loc[:, ['Close']]              # Select only the 'Close' column.\n",
    ")\n",
    "print (spy_close.head())"
   ]
  },
  {
   "cell_type": "markdown",
   "metadata": {},
   "source": [
    "#### Simple Returns\n",
    "A simple return is simply the value at the end of the period, $V_t$, less the value at the beginning of the period, $V_0$, divided by the beginning value, or:\n",
    "\n",
    "$$\n",
    "\\frac{V_t - V_0}{V_0}   \\tag{1}\n",
    "$$\n",
    "\n",
    "For example, the 1-month return for the S&P ended Janurary, 2023 is:\n",
    "$$\n",
    "\\frac{3970.15 - 4076.60}{4076.60} = -2.61\\%\n",
    "$$\n",
    "\n",
    "Pandas makes this task very easy..."
   ]
  },
  {
   "cell_type": "code",
   "execution_count": 39,
   "metadata": {},
   "outputs": [
    {
     "name": "stdout",
     "output_type": "stream",
     "text": [
      "Price             Close  returns1  returns2\n",
      "Date                                       \n",
      "2023-01-01  4076.600098       NaN       NaN\n",
      "2023-02-01  3970.149902 -0.026112 -0.026112\n",
      "2023-03-01  4109.310059  0.035052  0.035052\n",
      "2023-04-01  4169.479980  0.014642  0.014642\n",
      "2023-05-01  4179.830078  0.002482  0.002482\n"
     ]
    }
   ],
   "source": [
    "spy_returns = \\\n",
    "(\n",
    "    spy_close\n",
    "    .assign(returns1 = lambda df_: df_.Close.pct_change(),      ## The simple way..\n",
    "            returns2 = lambda df_: df_.Close.rolling(window=2).apply(lambda x: x[1]/x[0] - 1, raw=True))\n",
    "             ## a little more complex, with a rolling window of 2, apply a lambda function to calculate the returns. \n",
    ")\n",
    "print (spy_returns.head())"
   ]
  },
  {
   "cell_type": "markdown",
   "metadata": {},
   "source": [
    "The code above shows two different ways to compute single period (simple) returns.  The first method just calls the *pct_change()* function.  The second method applies the return equation from **(1)** as a lambda function.  In terms of efficiency, the first method is likely better.  However, the rolling window method can come in handy for more complex tasks when a built-in function is not available.  We can see below that the two approaches provide equivalent results:"
   ]
  },
  {
   "cell_type": "code",
   "execution_count": 45,
   "metadata": {},
   "outputs": [],
   "source": [
    "assert (\n",
    "    spy_returns.returns1.sub(spy_returns.returns2).sum() == 0\n",
    ")"
   ]
  },
  {
   "cell_type": "markdown",
   "metadata": {},
   "source": [
    "#### Geometric (Time-Weighted) Returns\n",
    "Time-weighted returns (TWR) are geometrically-linked simple returns.  They measure the compounded growth of an investment portfolio over time, isolating the impact of investment performance from the effects of cash flows from deposits and withdrawals.  TWRs are a standard measurement to compare portfolio performance over time.  Mathematically, it is computed as:\n",
    "$$\n",
    "R_{TWR} = (1 + R_1) \\times (1 + R_2) \\times ... \\times (1 + R_n) - 1  \\tag{2}\n",
    "$$\n",
    "Where $R_{TWR}$ is the total time-weighted return, and $R_1$, $R_2$, ..., $R_n$ are the individual period returns.  To compute the 2-year TWR for our S&P series, we'll work with the *returns1* field:"
   ]
  },
  {
   "cell_type": "code",
   "execution_count": 80,
   "metadata": {},
   "outputs": [
    {
     "name": "stdout",
     "output_type": "stream",
     "text": [
      "S&P 500 2-year total return ended Dec'24: 44.28%\n"
     ]
    }
   ],
   "source": [
    "spy_2yr_twr = \\\n",
    "(\n",
    "    spy_returns                             # the returns dataframe.\n",
    "    .returns1                               # a series of subperiod returns, e.g., monthly simple returns.\n",
    "    .dropna()                               # drop the first row, which has no prior period return.\n",
    "    .add(1).cumprod().sub(1)                # calculate the TWR.\n",
    "    .mul(100)                               # convert to percentage.\n",
    "    .iloc[-1]                               # take the last value.\n",
    ")\n",
    "print (f'S&P 500 2-year total return ended Dec\\'24: {spy_2yr_twr:.2f}%')"
   ]
  },
  {
   "cell_type": "markdown",
   "metadata": {},
   "source": [
    "Usually, its easier to work with annualized returns for the sake of comparing investments.  An annualized return is just a TWR expressed as an annual growth rate.  It is computed as:\n",
    "$$\n",
    "R_{Annual} = (1 + R_{TWR})^{\\frac{t}{n}} - 1  \\tag{3}\n",
    "$$\n",
    "where $R_{TWR}$ is the total return, $t$ is the number of subperiods in a year, and $n$ is the number of subperiods used to compute the total return.  For monthly data, for instance, $t=12$.  Since our TWR is based on 2 years of monthly returns, $n=24$.  Written as a simple lambda function, our annualized returns is:"
   ]
  },
  {
   "cell_type": "code",
   "execution_count": 82,
   "metadata": {},
   "outputs": [
    {
     "name": "stdout",
     "output_type": "stream",
     "text": [
      "S&P 500 annualized return: 20.12%\n"
     ]
    }
   ],
   "source": [
    "spy_annualized = ((1 + spy_2yr_twr/100)**(1./2) - 1) * 100\n",
    "print (f'S&P 500 annualized return: {spy_annualized:.2f}%')"
   ]
  },
  {
   "cell_type": "markdown",
   "metadata": {},
   "source": [
    "Bringing it all together, starting with closing prices, we can compute the annualized return for the S&P 500 ended Dec'24 as:"
   ]
  },
  {
   "cell_type": "code",
   "execution_count": null,
   "metadata": {},
   "outputs": [],
   "source": [
    "spy_annualized2 =\\\n",
    "(\n",
    "    spy_close                               # the prices dataframe.\n",
    "    .pct_change()                           # calculate the simple returns.\n",
    "    .dropna()                               # drop the first row, which has no prior period return.\n",
    "    .add(1).cumprod()                       # calculate the TWR.\n",
    "    .pow(12. / len(spy_close)).sub(1)       # annualize the TWR.\n",
    "    .mul(100)                               # convert to percentage.   \n",
    "    .iloc[-1].values[0]                     # take the last value.\n",
    ")\n",
    "\n",
    "assert spy_annualized == spy_annualized2"
   ]
  }
 ],
 "metadata": {
  "kernelspec": {
   "display_name": "tb-notebooks",
   "language": "python",
   "name": "python3"
  },
  "language_info": {
   "codemirror_mode": {
    "name": "ipython",
    "version": 3
   },
   "file_extension": ".py",
   "mimetype": "text/x-python",
   "name": "python",
   "nbconvert_exporter": "python",
   "pygments_lexer": "ipython3",
   "version": "3.13.1"
  }
 },
 "nbformat": 4,
 "nbformat_minor": 2
}
